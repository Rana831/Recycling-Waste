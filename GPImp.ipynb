{
  "nbformat": 4,
  "nbformat_minor": 0,
  "metadata": {
    "colab": {
      "provenance": [],
      "gpuType": "T4"
    },
    "kernelspec": {
      "name": "python3",
      "display_name": "Python 3"
    },
    "language_info": {
      "name": "python"
    },
    "accelerator": "GPU"
  },
  "cells": [
    {
      "cell_type": "code",
      "execution_count": null,
      "metadata": {
        "id": "O-dzl9Tj4NAc",
        "colab": {
          "base_uri": "https://localhost:8080/"
        },
        "outputId": "07ca3fdb-c7c8-419e-b155-5e91b9f283ff"
      },
      "outputs": [
        {
          "output_type": "stream",
          "name": "stdout",
          "text": [
            "Mounted at /content/drive\n"
          ]
        }
      ],
      "source": [
        "from google.colab import drive\n",
        "drive.mount('/content/drive')"
      ]
    },
    {
      "cell_type": "code",
      "source": [
        "%cd \"/content/drive/MyDrive/recycling waste\""
      ],
      "metadata": {
        "id": "ALTfUAkz4Sgq",
        "colab": {
          "base_uri": "https://localhost:8080/"
        },
        "outputId": "b916940a-4ad6-454c-85c8-9a56efce89c8"
      },
      "execution_count": null,
      "outputs": [
        {
          "output_type": "stream",
          "name": "stdout",
          "text": [
            "/content/drive/.shortcut-targets-by-id/1CTvT_gnTvwlcKwJ8yz4jUOs0JYTKrplA/recycling waste\n"
          ]
        }
      ]
    },
    {
      "cell_type": "code",
      "source": [
        "import tensorflow as tf\n",
        "import numpy as np\n",
        "import matplotlib.pyplot as plt"
      ],
      "metadata": {
        "id": "bD9Yilp54Sc_"
      },
      "execution_count": null,
      "outputs": []
    },
    {
      "cell_type": "code",
      "source": [
        "# let's prepare the data and generate the data\n",
        "\n",
        "from tensorflow.keras.preprocessing.image import ImageDataGenerator\n",
        "\n",
        "gen_train = ImageDataGenerator(rescale = 1/255, shear_range = 0.2, zoom_range = 0.2, \n",
        "                               brightness_range = (0.1, 0.5), horizontal_flip=True)\n",
        "\n",
        "train_data = gen_train.flow_from_directory(\"/content/drive/MyDrive/recycling waste\",\n",
        "                                           target_size = (224, 224), batch_size = 32, class_mode=\"categorical\")"
      ],
      "metadata": {
        "id": "buIvTRqS4SZi",
        "colab": {
          "base_uri": "https://localhost:8080/"
        },
        "outputId": "7d1388a9-b654-43b8-ea8e-960bbac3ea83"
      },
      "execution_count": null,
      "outputs": [
        {
          "output_type": "stream",
          "name": "stdout",
          "text": [
            "Found 8369 images belonging to 9 classes.\n"
          ]
        }
      ]
    },
    {
      "cell_type": "code",
      "source": [
        "# let's create a model\n",
        "# here i'm going to use VGG16 model's parameter to solve this problem\n",
        "\n",
        "from tensorflow.keras.applications.vgg16 import VGG16\n",
        "\n",
        "# here i'm going to take input shape, weights and bias from imagenet and include top False means\n",
        "# i want to add input, flatten and output layer by my self\n",
        "\n",
        "vgg16 = VGG16(input_shape = (224, 224, 3), weights = \"imagenet\", include_top = False)"
      ],
      "metadata": {
        "id": "D34rcO7h4SWe",
        "colab": {
          "base_uri": "https://localhost:8080/"
        },
        "outputId": "66af55b8-06f0-49af-ff4e-a970a3ab02a8"
      },
      "execution_count": null,
      "outputs": [
        {
          "output_type": "stream",
          "name": "stdout",
          "text": [
            "Downloading data from https://storage.googleapis.com/tensorflow/keras-applications/vgg16/vgg16_weights_tf_dim_ordering_tf_kernels_notop.h5\n",
            "58889256/58889256 [==============================] - 0s 0us/step\n"
          ]
        }
      ]
    },
    {
      "cell_type": "code",
      "source": [
        "# now vgg16 weights are already train so i don't want to train that weights again\n",
        "# so let's make trainable = False\n",
        "\n",
        "for layer in vgg16.layers:\n",
        "  layer.trainable = True"
      ],
      "metadata": {
        "id": "UpmzSzo34STa"
      },
      "execution_count": null,
      "outputs": []
    },
    {
      "cell_type": "code",
      "source": [
        "# let's add flatten layer or let's connect VGG16 with our own flatten layer\n",
        "\n",
        "from tensorflow.keras import layers\n",
        "\n",
        "x = layers.Flatten()(vgg16.output)"
      ],
      "metadata": {
        "id": "3mcV-Pxf4SQO"
      },
      "execution_count": null,
      "outputs": []
    },
    {
      "cell_type": "code",
      "source": [
        "# now let's add output layers or prediction layer\n",
        "\n",
        "prediction = layers.Dense(units = 9, activation=\"softmax\")(x)\n",
        "\n",
        "# creating a model object\n",
        "\n",
        "model = tf.keras.models.Model(inputs = vgg16.input, outputs=prediction)\n",
        "model.summary()"
      ],
      "metadata": {
        "id": "m4BFbmBv4SND",
        "colab": {
          "base_uri": "https://localhost:8080/"
        },
        "outputId": "c9668b5c-f105-46da-b28e-eb596672cf20"
      },
      "execution_count": null,
      "outputs": [
        {
          "output_type": "stream",
          "name": "stdout",
          "text": [
            "Model: \"model\"\n",
            "_________________________________________________________________\n",
            " Layer (type)                Output Shape              Param #   \n",
            "=================================================================\n",
            " input_1 (InputLayer)        [(None, 224, 224, 3)]     0         \n",
            "                                                                 \n",
            " block1_conv1 (Conv2D)       (None, 224, 224, 64)      1792      \n",
            "                                                                 \n",
            " block1_conv2 (Conv2D)       (None, 224, 224, 64)      36928     \n",
            "                                                                 \n",
            " block1_pool (MaxPooling2D)  (None, 112, 112, 64)      0         \n",
            "                                                                 \n",
            " block2_conv1 (Conv2D)       (None, 112, 112, 128)     73856     \n",
            "                                                                 \n",
            " block2_conv2 (Conv2D)       (None, 112, 112, 128)     147584    \n",
            "                                                                 \n",
            " block2_pool (MaxPooling2D)  (None, 56, 56, 128)       0         \n",
            "                                                                 \n",
            " block3_conv1 (Conv2D)       (None, 56, 56, 256)       295168    \n",
            "                                                                 \n",
            " block3_conv2 (Conv2D)       (None, 56, 56, 256)       590080    \n",
            "                                                                 \n",
            " block3_conv3 (Conv2D)       (None, 56, 56, 256)       590080    \n",
            "                                                                 \n",
            " block3_pool (MaxPooling2D)  (None, 28, 28, 256)       0         \n",
            "                                                                 \n",
            " block4_conv1 (Conv2D)       (None, 28, 28, 512)       1180160   \n",
            "                                                                 \n",
            " block4_conv2 (Conv2D)       (None, 28, 28, 512)       2359808   \n",
            "                                                                 \n",
            " block4_conv3 (Conv2D)       (None, 28, 28, 512)       2359808   \n",
            "                                                                 \n",
            " block4_pool (MaxPooling2D)  (None, 14, 14, 512)       0         \n",
            "                                                                 \n",
            " block5_conv1 (Conv2D)       (None, 14, 14, 512)       2359808   \n",
            "                                                                 \n",
            " block5_conv2 (Conv2D)       (None, 14, 14, 512)       2359808   \n",
            "                                                                 \n",
            " block5_conv3 (Conv2D)       (None, 14, 14, 512)       2359808   \n",
            "                                                                 \n",
            " block5_pool (MaxPooling2D)  (None, 7, 7, 512)         0         \n",
            "                                                                 \n",
            " flatten (Flatten)           (None, 25088)             0         \n",
            "                                                                 \n",
            " dense (Dense)               (None, 9)                 225801    \n",
            "                                                                 \n",
            "=================================================================\n",
            "Total params: 14,940,489\n",
            "Trainable params: 14,940,489\n",
            "Non-trainable params: 0\n",
            "_________________________________________________________________\n"
          ]
        }
      ]
    },
    {
      "cell_type": "code",
      "source": [
        "# now let's compile the model\n",
        "\n",
        "model.compile(optimizer=\"Adamax\", loss=\"categorical_crossentropy\", metrics =[\"accuracy\"])\n",
        "\n",
        "result = model.fit(train_data, epochs = 40, steps_per_epoch=len(train_data))"
      ],
      "metadata": {
        "id": "miWPe9-14SK_",
        "colab": {
          "base_uri": "https://localhost:8080/"
        },
        "outputId": "08b9dc5e-58c5-4452-f025-ddfb3a08f563"
      },
      "execution_count": null,
      "outputs": [
        {
          "output_type": "stream",
          "name": "stdout",
          "text": [
            "Epoch 1/40\n",
            "262/262 [==============================] - 2171s 8s/step - loss: 2.2096 - accuracy: 0.1694\n",
            "Epoch 2/40\n",
            "262/262 [==============================] - 208s 794ms/step - loss: 2.0960 - accuracy: 0.1776\n",
            "Epoch 3/40\n",
            "262/262 [==============================] - 207s 790ms/step - loss: 2.0369 - accuracy: 0.2134\n",
            "Epoch 4/40\n",
            "262/262 [==============================] - 206s 785ms/step - loss: 1.9911 - accuracy: 0.2384\n",
            "Epoch 5/40\n",
            "262/262 [==============================] - 208s 791ms/step - loss: 1.9420 - accuracy: 0.2606\n",
            "Epoch 6/40\n",
            "262/262 [==============================] - 210s 802ms/step - loss: 1.8912 - accuracy: 0.2855\n",
            "Epoch 7/40\n",
            "262/262 [==============================] - 210s 798ms/step - loss: 1.8143 - accuracy: 0.3260\n",
            "Epoch 8/40\n",
            "262/262 [==============================] - 208s 793ms/step - loss: 1.7210 - accuracy: 0.3677\n",
            "Epoch 9/40\n",
            "262/262 [==============================] - 209s 795ms/step - loss: 1.6396 - accuracy: 0.4076\n",
            "Epoch 10/40\n",
            "262/262 [==============================] - 210s 801ms/step - loss: 1.5749 - accuracy: 0.4336\n",
            "Epoch 11/40\n",
            "262/262 [==============================] - 208s 789ms/step - loss: 1.4883 - accuracy: 0.4725\n",
            "Epoch 12/40\n",
            "262/262 [==============================] - 207s 789ms/step - loss: 1.4144 - accuracy: 0.5024\n",
            "Epoch 13/40\n",
            "262/262 [==============================] - 207s 788ms/step - loss: 1.3513 - accuracy: 0.5267\n",
            "Epoch 14/40\n",
            "262/262 [==============================] - 207s 791ms/step - loss: 1.2812 - accuracy: 0.5561\n",
            "Epoch 15/40\n",
            "262/262 [==============================] - 210s 801ms/step - loss: 1.2185 - accuracy: 0.5800\n",
            "Epoch 16/40\n",
            "262/262 [==============================] - 209s 799ms/step - loss: 1.1422 - accuracy: 0.6132\n",
            "Epoch 17/40\n",
            "262/262 [==============================] - 207s 790ms/step - loss: 1.0687 - accuracy: 0.6323\n",
            "Epoch 18/40\n",
            "262/262 [==============================] - 207s 791ms/step - loss: 1.0372 - accuracy: 0.6457\n",
            "Epoch 19/40\n",
            "262/262 [==============================] - 208s 791ms/step - loss: 0.9600 - accuracy: 0.6728\n",
            "Epoch 20/40\n",
            "262/262 [==============================] - 209s 798ms/step - loss: 0.8967 - accuracy: 0.6933\n",
            "Epoch 21/40\n",
            "262/262 [==============================] - 209s 797ms/step - loss: 0.8538 - accuracy: 0.7110\n",
            "Epoch 22/40\n",
            "262/262 [==============================] - 207s 790ms/step - loss: 0.8098 - accuracy: 0.7233\n",
            "Epoch 23/40\n",
            "262/262 [==============================] - 206s 786ms/step - loss: 0.7311 - accuracy: 0.7512\n",
            "Epoch 24/40\n",
            "262/262 [==============================] - 208s 791ms/step - loss: 0.7122 - accuracy: 0.7596\n",
            "Epoch 25/40\n",
            "262/262 [==============================] - 208s 792ms/step - loss: 0.6886 - accuracy: 0.7711\n",
            "Epoch 26/40\n",
            "262/262 [==============================] - 213s 812ms/step - loss: 0.6251 - accuracy: 0.7891\n",
            "Epoch 27/40\n",
            "262/262 [==============================] - 219s 834ms/step - loss: 0.5939 - accuracy: 0.7984\n",
            "Epoch 28/40\n",
            "262/262 [==============================] - 218s 832ms/step - loss: 0.5733 - accuracy: 0.8049\n",
            "Epoch 29/40\n",
            "262/262 [==============================] - 239s 912ms/step - loss: 0.5522 - accuracy: 0.8136\n",
            "Epoch 30/40\n",
            "262/262 [==============================] - 237s 903ms/step - loss: 0.4990 - accuracy: 0.8312\n",
            "Epoch 31/40\n",
            "262/262 [==============================] - 230s 879ms/step - loss: 0.4791 - accuracy: 0.8386\n",
            "Epoch 32/40\n",
            "262/262 [==============================] - 230s 874ms/step - loss: 0.4491 - accuracy: 0.8488\n",
            "Epoch 33/40\n",
            "262/262 [==============================] - 209s 796ms/step - loss: 0.4178 - accuracy: 0.8578\n",
            "Epoch 34/40\n",
            "262/262 [==============================] - 209s 796ms/step - loss: 0.4092 - accuracy: 0.8612\n",
            "Epoch 35/40\n",
            "262/262 [==============================] - 207s 788ms/step - loss: 0.3662 - accuracy: 0.8769\n",
            "Epoch 36/40\n",
            "262/262 [==============================] - 208s 791ms/step - loss: 0.3710 - accuracy: 0.8745\n",
            "Epoch 37/40\n",
            "262/262 [==============================] - 207s 791ms/step - loss: 0.3437 - accuracy: 0.8858\n",
            "Epoch 38/40\n",
            "262/262 [==============================] - 208s 792ms/step - loss: 0.3141 - accuracy: 0.8976\n",
            "Epoch 39/40\n",
            "262/262 [==============================] - 208s 793ms/step - loss: 0.3200 - accuracy: 0.8901\n",
            "Epoch 40/40\n",
            "262/262 [==============================] - 206s 787ms/step - loss: 0.2773 - accuracy: 0.9070\n"
          ]
        }
      ]
    },
    {
      "cell_type": "code",
      "source": [
        "from tensorflow.keras.preprocessing import image\n",
        "output_class = [\"batteries\", \"clothes\", \"e-waste\", \"glass\", \"light blubs\", \"metal\", \"organic\", \"paper\", \"plastic\"]\n",
        "def waste_prediction(new_image):\n",
        "  test_image = image.load_img(new_image, target_size = (224,224))\n",
        "  plt.axis(\"off\")\n",
        "  plt.imshow(test_image)\n",
        "  plt.show()\n",
        " \n",
        "  test_image = image.img_to_array(test_image) / 255\n",
        "  test_image = np.expand_dims(test_image, axis=0)\n",
        "\n",
        "  predicted_array = model.predict(test_image)\n",
        "  predicted_value = output_class[np.argmax(predicted_array)]\n",
        "  predicted_accuracy = round(np.max(predicted_array) * 100, 2)\n",
        "\n",
        "  print(\"Your waste material is \", predicted_value, \" with \", predicted_accuracy, \" % accuracy\")"
      ],
      "metadata": {
        "id": "7NvrsQPj0uZu"
      },
      "execution_count": null,
      "outputs": []
    },
    {
      "cell_type": "code",
      "source": [
        "waste_prediction(\"toy.jpg\")"
      ],
      "metadata": {
        "id": "CdIbFfDm0zEO"
      },
      "execution_count": null,
      "outputs": []
    },
    {
      "cell_type": "code",
      "source": [
        "plt.title(\"Accuracy\")\n",
        "plt.plot(result.history[\"accuracy\"])\n",
        "plt.show()"
      ],
      "metadata": {
        "id": "5kSuZCfw06Ki",
        "colab": {
          "base_uri": "https://localhost:8080/",
          "height": 452
        },
        "outputId": "caf09779-dcb8-49b9-a2dc-06cf6856966b"
      },
      "execution_count": null,
      "outputs": [
        {
          "output_type": "display_data",
          "data": {
            "text/plain": [
              "<Figure size 640x480 with 1 Axes>"
            ],
            "image/png": "[encoded data removed]"
          },
          "metadata": {}
        }
      ]
    },
    {
      "cell_type": "code",
      "source": [
        "plt.title(\"Loss\")\n",
        "plt.plot(result.history[\"loss\"])\n",
        "plt.show()"
      ],
      "metadata": {
        "id": "pTvbMQiW064q",
        "colab": {
          "base_uri": "https://localhost:8080/",
          "height": 452
        },
        "outputId": "c76fe4b5-90e5-41ad-c5dc-fb21a08a1df5"
      },
      "execution_count": null,
      "outputs": [
        {
          "output_type": "display_data",
          "data": {
            "text/plain": [
              "<Figure size 640x480 with 1 Axes>"
            ],
            "image/png": "[encoded data removed]"
          },
          "metadata": {}
        }
      ]
    },
    {
      "cell_type": "code",
      "source": [
        "drive.mount('/content/drive')\n",
        "model.save(\"/classifyWaste.h5\")"
      ],
      "metadata": {
        "colab": {
          "base_uri": "https://localhost:8080/"
        },
        "id": "OhjbAlWZ1GCz",
        "outputId": "10f964e6-997f-44d2-bd88-a8e7d4ce0959"
      },
      "execution_count": null,
      "outputs": [
        {
          "output_type": "stream",
          "name": "stdout",
          "text": [
            "Drive already mounted at /content/drive; to attempt to forcibly remount, call drive.mount(\"/content/drive\", force_remount=True).\n"
          ]
        }
      ]
    }
  ]
}